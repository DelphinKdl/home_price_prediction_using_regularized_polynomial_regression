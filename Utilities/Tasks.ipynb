{
 "cells": [
  {
   "cell_type": "markdown",
   "metadata": {},
   "source": [
    " ### Guidance notes"
   ]
  },
  {
   "cell_type": "markdown",
   "metadata": {},
   "source": [
    "#### Dataset\n",
    "- **Import HousingSalePrice.csv**\n",
    "\n",
    "    This dataset includes historic housing sale prices with corresponding information on the house that sold. Documentation is provided with the variable descriptions. \n",
    "\n",
    "\n",
    "- **Import NewListings2.csv**\n",
    "\n",
    "    In the NewListings2.csv dataset, you will find unlabeled data, that is, you will find variables that define characteristics of new houses up for sale but no data on a sale price because these houses have not yet sold. You can think of this dataset as a collection of data on houses in a real estate agent's portfolio. You will find that there is a variable that states the home owner's desired sale price. \n",
    "\n"
   ]
  },
  {
   "cell_type": "markdown",
   "metadata": {},
   "source": [
    "#### Tasks"
   ]
  },
  {
   "cell_type": "markdown",
   "metadata": {},
   "source": [
    "1. Conduct appropriate data cleaning so that you have a dataframe of variables that you can use to train/test your model."
   ]
  },
  {
   "cell_type": "markdown",
   "metadata": {},
   "source": [
    "2. Conduct data visualization to build some intuition as to what models you may need for this question. Show graphs and provide discussion of these graphs. Full credit is based on providing meaningful data visuals and sound interpretation of these visuals. (Simply using sns.pairplot() will not earn full credit)"
   ]
  },
  {
   "cell_type": "markdown",
   "metadata": {},
   "source": [
    "3. Develop a machine learning model that predicts the sale price. Use a hold out test set that is (roughly) the same size as the NewListings dataset. Provide evidence for the performance of your model and make an argument for why you think your model is the best fit model that you could develop given what we have learned so far. Support your argument with any graphs or information that you may need to make your argument. Save your final model for deployment.\n"
   ]
  },
  {
   "cell_type": "markdown",
   "metadata": {},
   "source": [
    "4. What house characteristics appear to be the most important determinants of the sale price? Based on these observations, what recommendations would you make to new sellers about how they can modify their house to improve the sale price? Show the regression results that you are using to make these recommendations. \n"
   ]
  },
  {
   "cell_type": "markdown",
   "metadata": {},
   "source": [
    "5. Generate predicted sale prices for the new listings. Compare your predicted sale price to the desired sale price. Create a new variable that indicates which houses you would recommend putting on the market for sale and which houses you might recommend not to sell, based on this comparison. "
   ]
  }
 ],
 "metadata": {
  "kernelspec": {
   "display_name": "base",
   "language": "python",
   "name": "python3"
  },
  "language_info": {
   "codemirror_mode": {
    "name": "ipython",
    "version": 3
   },
   "file_extension": ".py",
   "mimetype": "text/x-python",
   "name": "python",
   "nbconvert_exporter": "python",
   "pygments_lexer": "ipython3",
   "version": "3.11.5"
  }
 },
 "nbformat": 4,
 "nbformat_minor": 2
}
